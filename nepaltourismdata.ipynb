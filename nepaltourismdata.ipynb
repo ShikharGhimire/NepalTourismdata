{
 "cells": [
  {
   "cell_type": "code",
   "execution_count": 9,
   "metadata": {},
   "outputs": [],
   "source": [
    "import tabula\n",
    "from tabula.io import read_pdf\n",
    "import pandas as pd\n",
    "import pdfplumber"
   ]
  },
  {
   "cell_type": "code",
   "execution_count": 10,
   "metadata": {},
   "outputs": [],
   "source": [
    "pdf = pdfplumber.open('/Users/shikharghimire/Desktop/machinelearning/Untitled Folder/Nepal_ tourism_statics_2019.pdf')"
   ]
  },
  {
   "cell_type": "code",
   "execution_count": 11,
   "metadata": {},
   "outputs": [],
   "source": [
    "#Tourist average stay first page\n",
    "stay_table= pdf.pages[16].extract_table()\n",
    "tourist_stay = pd.DataFrame(stay_table) #Converting into dataframe\n",
    "tourist_stay.drop(1,inplace=True)\n",
    "tourist_stay.columns = tourist_stay.iloc[0]\n",
    "coloumn_list = ['Year','Total_no_of_tourists','Annual_growth_rate%','Number_by_air','by_air_percentage','Number_by_land','by_land_percent','Average_length_of_stay']\n",
    "tourist_stay.columns = coloumn_list\n",
    "tourist_stay.drop(0,inplace=True)\n",
    "\n",
    "#staytable table on the second page\n",
    "stay_table_nxtpage = pdf.pages[17].extract_table() \n",
    "stay_table_nxtpage = pd.DataFrame(stay_table_nxtpage)\n",
    "stay_table_nxtpage.columns = coloumn_list\n",
    "stay_table_nxtpage.drop(stay_table_nxtpage.index[:2], inplace=True) #Removing the first two rows"
   ]
  },
  {
   "cell_type": "code",
   "execution_count": 12,
   "metadata": {},
   "outputs": [],
   "source": [
    "#Concatening both the tables\n",
    "final_dataset = pd.concat([tourist_stay,stay_table_nxtpage])"
   ]
  },
  {
   "cell_type": "code",
   "execution_count": 14,
   "metadata": {},
   "outputs": [],
   "source": [
    "# final_dataset.to_csv('tourist_average_stay.csv')"
   ]
  },
  {
   "cell_type": "markdown",
   "metadata": {},
   "source": [
    "### Tourist Arrival by Month 1992-2019 (Page 27)"
   ]
  },
  {
   "cell_type": "code",
   "execution_count": 53,
   "metadata": {},
   "outputs": [],
   "source": [
    "month_arrival = pdf.pages[19].extract_table()\n",
    "month_arrival = pd.DataFrame(month_arrival)\n",
    "month_arrival.columns = month_arrival.iloc[0]\n",
    "month_arrival = month_arrival[1:]\n",
    "#Second Page extraction\n",
    "month_arrival_secondpage = pdf.pages[20].extract_table()\n",
    "month_arrival_secondpage = pd.DataFrame(month_arrival_secondpage)\n",
    "month_arrival_secondpage.columns = month_arrival_secondpage.iloc[0]\n",
    "month_arrival_secondpage = month_arrival_secondpage[1:]\n",
    "\n",
    "#Merging two dataset\n",
    "month_arrival_dataset = pd.concat([month_arrival,month_arrival_secondpage])\n",
    "#Renaming coloumns\n",
    "coloumn_list = ['Year','Jan','Feb','Mar','Apr','May','Jun','Jul','Aug','Sep','Oct','Nov','Dec','Total']\n",
    "month_arrival_dataset.columns = coloumn_list\n",
    "\n",
    "#Saving it into csv file\n",
    "month_arrival_dataset.to_csv('touristarrivalbymonth1992-2019.csv')"
   ]
  },
  {
   "cell_type": "markdown",
   "metadata": {},
   "source": [
    " ### Tourist Arrival by Month 1992-2019 (Page 24-25)  Excluding Indian citizens\n",
    " "
   ]
  },
  {
   "cell_type": "code",
   "execution_count": 97,
   "metadata": {},
   "outputs": [],
   "source": [
    "month_arrival_not_indians = pdf.pages[23].extract_table()\n",
    "month_arrival_not_indians = pd.DataFrame(month_arrival_not_indians)\n",
    "month_arrival_not_indians.columns = month_arrival_not_indians.iloc[0]\n",
    "month_arrival_not_indians = month_arrival_not_indians[1:]\n",
    "#Second Page extraction\n",
    "month_arrival_not_indians_secondpage = pdf.pages[24].extract_table()\n",
    "month_arrival_not_indians_secondpage = pd.DataFrame(month_arrival_not_indians_secondpage)\n",
    "month_arrival_not_indians.columns = month_arrival_not_indians_secondpage.iloc[0]\n",
    "month_arrival_not_indians_secondpage = month_arrival_not_indians_secondpage[1:]\n",
    "\n",
    "#Renaming coloumns\n",
    "coloumn_list = ['Year','Jan','Feb','Mar','Apr','May','Jun','Jul','Aug','Sep','Oct','Nov','Dec','Total']\n",
    "month_arrival_not_indians.columns = coloumn_list\n",
    "month_arrival_not_indians_secondpage.columns = coloumn_list\n",
    "\n",
    "#Merging two dataset\n",
    "month_arrival_dataset_notindians = pd.concat([month_arrival_not_indians,month_arrival_not_indians_secondpage])\n",
    "\n",
    "#Saving it into csv file\n",
    "#month_arrival_dataset_notindians.to_csv('touristarrivalbymonth1992-2019.csv')"
   ]
  },
  {
   "cell_type": "markdown",
   "metadata": {},
   "source": [
    "###  INDIAN TOURIST ARRIVAL BY MONTH, BY AIR, 1992-2019"
   ]
  },
  {
   "cell_type": "code",
   "execution_count": 125,
   "metadata": {},
   "outputs": [],
   "source": [
    "indians_byair = pdf.pages[25].extract_table()\n",
    "indians_byair = pd.DataFrame(indians_byair)\n",
    "indians_byair.columns = indians_byair.iloc[0]\n",
    "indians_byair = indians_byair[1:]\n",
    "\n",
    "#Second page extraction\n",
    "indians_byair_secondpage = pdf.pages[26].extract_table()\n",
    "indians_byair_secondpage = pd.DataFrame(indians_byair_secondpage)\n",
    "indians_byair_secondpage.columns = indians_byair_secondpage.iloc[0]\n",
    "indians_byair_secondpage = indians_byair_secondpage[1:]\n",
    "\n",
    "#Changing coloumns format\n",
    "indians_byair.columns = coloumn_list\n",
    "indians_byair_secondpage.columns = coloumn_list\n",
    "\n",
    "#Merging two dataset\n",
    "indians_byair_finaldataset = pd.concat([indians_byair,indians_byair_secondpage])\n",
    "\n",
    "#Saving it into csv file\n",
    "indians_byair_finaldataset.to_csv('indiansbyair1992-2019.csv')"
   ]
  },
  {
   "cell_type": "markdown",
   "metadata": {},
   "source": [
    "### Tourist arrival by air, 1993-2019"
   ]
  },
  {
   "cell_type": "code",
   "execution_count": 132,
   "metadata": {},
   "outputs": [],
   "source": [
    "tourist_arrival_byair = pdf.pages[27].extract_table()\n",
    "tourist_arrival_byair = pd.DataFrame(tourist_arrival_byair)\n",
    "tourist_arrival_byair.columns = tourist_arrival_byair.iloc[0]\n",
    "tourist_arrival_byair = tourist_arrival_byair[1:]\n",
    "\n",
    "#Changing coloumns format\n",
    "col = ['Year','Third_Country','Indian','Total','%Change']\n",
    "tourist_arrival_byair.columns = col\n",
    "\n",
    "#Converting it into csv\n",
    "#tourist_arrival_byair.to_csv('Touristarrivalbyair.csv')"
   ]
  },
  {
   "cell_type": "markdown",
   "metadata": {},
   "source": [
    "### Tourist Arrival by sex, 1993-2019"
   ]
  },
  {
   "cell_type": "code",
   "execution_count": 151,
   "metadata": {},
   "outputs": [],
   "source": [
    "tourist_arrival_bysex = pdf.pages[29].extract_table()\n",
    "tourist_arrival_bysex = pd.DataFrame(tourist_arrival_bysex)\n",
    "tourist_arrival_bysex.columns = tourist_arrival_bysex.iloc[0]\n",
    "tourist_arrival_bysex  = tourist_arrival_bysex[2:]\n",
    "#Changing the coloumns name\n",
    "cols = ['Year','Male','Male%','Female','Female%','Total']\n",
    "tourist_arrival_bysex.columns = cols\n",
    "#Converting it into csv\n",
    "#tourist_arrival_bysex.to_csv('tourist_arrival_bysex.csv')"
   ]
  },
  {
   "cell_type": "markdown",
   "metadata": {},
   "source": [
    "### Tourist Arrival by Age Group"
   ]
  },
  {
   "cell_type": "code",
   "execution_count": null,
   "metadata": {},
   "outputs": [],
   "source": []
  },
  {
   "cell_type": "markdown",
   "metadata": {},
   "source": [
    "### Tourist Arrival by Major Nationalities 2010-2019"
   ]
  },
  {
   "cell_type": "code",
   "execution_count": 174,
   "metadata": {},
   "outputs": [],
   "source": [
    "tourist_arrival_bynationality = pdf.pages[34].extract_table()\n",
    "tourist_arrival_bynationality  = pd.DataFrame(tourist_arrival_bynationality)\n",
    "tourist_arrival_bynationality.columns = tourist_arrival_bynationality.iloc[0]\n",
    "tourist_arrival_bynationality = tourist_arrival_bynationality[1:]\n",
    "#Extracting the second page\n",
    "tourist_arrival_bynationality_secondpage = pdf.pages[35].extract_table()\n",
    "tourist_arrival_bynationality_secondpage = pd.DataFrame(tourist_arrival_bynationality_secondpage)\n",
    "tourist_arrival_bynationality_secondpage.columns = tourist_arrival_bynationality_secondpage.iloc[0]\n",
    "tourist_arrival_bynationality_secondpage  =tourist_arrival_bynationality_secondpage[1:]\n",
    "\n",
    "#Merging two datasets\n",
    "tourist_arrival_bynationality_final = pd.concat([tourist_arrival_bynationality,tourist_arrival_bynationality_secondpage])\n",
    "\n",
    "\n",
    "#Converting it into csv file\n",
    "tourist_arrival_bynationality_final.to_csv('tourist_arrival_bynationality.csv')"
   ]
  },
  {
   "cell_type": "markdown",
   "metadata": {},
   "source": [
    "### TOURIST ARRIVAL BY MAJOR NATIONALITIES & MONTH, 2017-2019"
   ]
  },
  {
   "cell_type": "code",
   "execution_count": 219,
   "metadata": {},
   "outputs": [],
   "source": [
    "coloumn_list = ['Nationality','Year','Jan','Feb','Mar','Apr','May','Jun','Jul','Aug','Sep','Oct','Nov','Dec','Total']\n",
    "tourist_month_arrival_bynationality = pdf.pages[36].extract_table()\n",
    "tourist_month_arrival_bynationality = pd.DataFrame(tourist_month_arrival_bynationality)\n",
    "tourist_month_arrival_bynationality.columns = tourist_month_arrival_bynationality.iloc[0]\n",
    "tourist_month_arrival_bynationality = tourist_month_arrival_bynationality[2:]\n",
    "#Check the coloumn_list above\n",
    "tourist_month_arrival_bynationality.columns = coloumn_list\n",
    "\n",
    "#Second page\n",
    "tourist_month_arrival_bynationality_second = pdf.pages[37].extract_table()\n",
    "tourist_month_arrival_bynationality_second = pd.DataFrame(tourist_month_arrival_bynationality_second)\n",
    "tourist_month_arrival_bynationality_second.columns = tourist_month_arrival_bynationality_second.iloc[0]\n",
    "tourist_month_arrival_bynationality_second = tourist_month_arrival_bynationality_second[2:]\n",
    "#Check the coloumn_list above\n",
    "tourist_month_arrival_bynationality_second.columns = coloumn_list\n",
    "#Third page\n",
    "tourist_month_arrival_bynationality_third = pdf.pages[38].extract_table()\n",
    "tourist_month_arrival_bynationality_third = pd.DataFrame(tourist_month_arrival_bynationality_third)\n",
    "tourist_month_arrival_bynationality_third.columns = tourist_month_arrival_bynationality_third.iloc[0]\n",
    "tourist_month_arrival_bynationality_third = tourist_month_arrival_bynationality_third[2:]\n",
    "#Check the coloumn_list above\n",
    "tourist_month_arrival_bynationality_third.columns = coloumn_list\n",
    "\n",
    "#Fourth page\n",
    "tourist_month_arrival_bynationality_fourth = pdf.pages[39].extract_table()\n",
    "tourist_month_arrival_bynationality_fourth = pd.DataFrame(tourist_month_arrival_bynationality_fourth)\n",
    "tourist_month_arrival_bynationality_fourth.columns = tourist_month_arrival_bynationality_fourth.iloc[0]\n",
    "tourist_month_arrival_bynationality_fourth = tourist_month_arrival_bynationality_fourth[2:]\n",
    "#Check the coloumn_list above\n",
    "tourist_month_arrival_bynationality_fourth.columns = coloumn_list\n",
    "\n",
    "#Concatening the whole dataset\n",
    "tourist_month_arrival_bynationality_final = pd.concat([tourist_month_arrival_bynationality,tourist_month_arrival_bynationality_second,tourist_month_arrival_bynationality_third,tourist_month_arrival_bynationality_fourth])\n",
    "\n",
    "#Converting it into csv\n",
    "#tourist_month_arrival_bynationality_final.to_csv('monthly_arrival_bynationality.csv')"
   ]
  },
  {
   "cell_type": "markdown",
   "metadata": {},
   "source": [
    "### Tourist arrival by entry points"
   ]
  },
  {
   "cell_type": "code",
   "execution_count": 240,
   "metadata": {},
   "outputs": [],
   "source": [
    "tourist_entry_points = pdf.pages[40].extract_table()\n",
    "tourist_entry_points  = pd.DataFrame(tourist_entry_points)\n",
    "tourist_entry_points.columns = tourist_entry_points.iloc[0]\n",
    "tourist_entry_points  =tourist_entry_points[1:]\n",
    "\n",
    "#Changing coloumn name\n",
    "columns = ['Entry Point','Jan','Feb','Mar','Apr','May','Jun','Jul','Aug','Sep','Oct','Nov','Dec','Total']\n",
    "tourist_entry_points.columns = columns\n",
    "#Cleaning up the entry points\n",
    "tourist_entry_points['Entry Point'].replace(r'\\n',' ', regex=True,inplace=True) \n",
    "\n",
    "#Converting it into csv\n",
    "#tourist_entry_points.to_csv('touristentrypoints2019.csv')"
   ]
  },
  {
   "cell_type": "markdown",
   "metadata": {},
   "source": [
    "### Tourist Arrival by Country and Month 2019"
   ]
  },
  {
   "cell_type": "code",
   "execution_count": 284,
   "metadata": {},
   "outputs": [],
   "source": [
    "touristarrival_2019 = pdf.pages[41].extract_table()\n",
    "touristarrival_2019 = pd.DataFrame(touristarrival_2019)\n",
    "touristarrival_2019.columns = touristarrival_2019.iloc[0]\n",
    "touristarrival_2019 = touristarrival_2019[1:]\n",
    "#Dropping cols\n",
    "touristarrival_2019.drop('S.N.',axis=1,inplace=True)\n",
    "#Changing col name\n",
    "col_name = ['Country','Jan','Feb','Mar','Apr','May','Jun','July','Aug','Sept','Oct','Nov','Dec','Total']\n",
    "touristarrival_2019.columns = col_name\n",
    "\n",
    "#Converting it into csv\n",
    "touristarrival_2019.to_csv('touristarrivalmonthbycountry.csv')"
   ]
  },
  {
   "cell_type": "markdown",
   "metadata": {},
   "source": [
    "### TOURIST ARRIVAL AND AVERAGE LENGTH OF STAY, 1975-2019"
   ]
  },
  {
   "cell_type": "code",
   "execution_count": 351,
   "metadata": {},
   "outputs": [],
   "source": [
    "touristarrival = pdf.pages[44].extract_table()\n",
    "touristarrival  = pd.DataFrame(touristarrival)\n",
    "touristarrival.columns = touristarrival.iloc[0]\n",
    "touristarrival = touristarrival[1:]\n",
    "#Since there are two col for year, let's break it down \n",
    "touristarrival_first_part = touristarrival.iloc[:,:3]\n",
    "touristarrival_second_part = touristarrival.iloc[:,3:]\n",
    "#Concatening dataset\n",
    "final_dataset = pd.concat([touristarrival_first_part,touristarrival_second_part])\n",
    "\n",
    "#Changing col name\n",
    "cols = ['Year','Number','Average_length_of_stay']\n",
    "final_dataset.columns = cols\n",
    "\n",
    "#Converting it into csv file\n",
    "#final_dataset.to_csv('touristarrival1975-2019.csv')"
   ]
  },
  {
   "cell_type": "code",
   "execution_count": null,
   "metadata": {},
   "outputs": [],
   "source": []
  }
 ],
 "metadata": {
  "kernelspec": {
   "display_name": "Python 3",
   "language": "python",
   "name": "python3"
  },
  "language_info": {
   "codemirror_mode": {
    "name": "ipython",
    "version": 3
   },
   "file_extension": ".py",
   "mimetype": "text/x-python",
   "name": "python",
   "nbconvert_exporter": "python",
   "pygments_lexer": "ipython3",
   "version": "3.7.6"
  }
 },
 "nbformat": 4,
 "nbformat_minor": 4
}
